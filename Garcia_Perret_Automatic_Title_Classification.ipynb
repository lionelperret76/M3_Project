{
 "cells": [
  {
   "cell_type": "markdown",
   "metadata": {
    "id": "iHK21qKS0Zls"
   },
   "source": [
    "# Automatic Classification of Sharepoint Documents based on their Titles"
   ]
  },
  {
   "cell_type": "markdown",
   "metadata": {
    "id": "ZK2oXU8z0Zly"
   },
   "source": [
    "University of Bern / CAS Applied data Science Projet Module 3 / Alfonso Garcia-Miguel and Lionel Perret"
   ]
  },
  {
   "cell_type": "markdown",
   "metadata": {
    "id": "hvXGOzJQcaG4"
   },
   "source": [
    "# Table of Content\n",
    "1. Overview of the Project\n",
    "2. Load the necessary packages and define the necessary functions\n",
    "3. Load the dataset into tf.keras\n",
    "4. Prepare the text data - Text Vectorization\n",
    "5. Train and optimize the 2 models\n",
    "6. Results and Comparison\n",
    "7. References and Detailed explaination"
   ]
  },
  {
   "cell_type": "markdown",
   "metadata": {
    "id": "DrH4Vryv0Zlz"
   },
   "source": [
    "# 1. Overview of the Project"
   ]
  },
  {
   "cell_type": "markdown",
   "metadata": {
    "id": "hkW9XxxX0Zlz"
   },
   "source": [
    "\n",
    "\n",
    "<img src=\"./Overview.jpg\" alt=\"Drawing\" style=\"width: 1000px;\">"
   ]
  },
  {
   "cell_type": "markdown",
   "metadata": {
    "id": "DkCzeSFZ0zev"
   },
   "source": [
    "This project aims at automating the classification of documents based on the title. The possible classes correspond to four different departments of an organisation. Using supervised learning from a dataset containing more than 185.000 labelled documents, with title and department, we train the machine so that, given a textual input (the title of the document) we obtain the corresponding department that this document belongs to.\n",
    "As it is common in machine learning projects, the first step involves some data cleaning (selecting the appropriate features of the dataset, removing special characters...). For this particular project, we decided to include the file extension as part of the title, since this information might affect the end result."
   ]
  },
  {
   "cell_type": "markdown",
   "metadata": {
    "id": "OqiwsDNj0Zl0"
   },
   "source": [
    "# 2 Load the necessary packages and define the necessary functions"
   ]
  },
  {
   "cell_type": "code",
   "execution_count": 2,
   "metadata": {
    "id": "CG07Zcq_0Zl0"
   },
   "outputs": [],
   "source": [
    "import pandas as pd\n",
    "import os\n",
    "\n",
    "import collections\n",
    "import pathlib\n",
    "import re\n",
    "import string\n",
    "\n",
    "import tensorflow as tf\n",
    "\n",
    "from tensorflow.keras import layers\n",
    "from tensorflow.keras import losses\n",
    "from tensorflow.keras import preprocessing\n",
    "from tensorflow.keras import utils\n",
    "from tensorflow.keras.layers.experimental.preprocessing import TextVectorization\n",
    "\n",
    "import tensorflow_datasets as tfds\n",
    "import tensorflow_text as tf_text\n",
    "\n",
    "import matplotlib.pyplot as plt\n",
    "\n",
    "from __future__ import absolute_import\n",
    "from __future__ import division\n",
    "from __future__ import print_function\n",
    "\n",
    "from datetime import datetime\n",
    "from packaging import version\n",
    "\n",
    "from tensorflow import keras"
   ]
  },
  {
   "cell_type": "code",
   "execution_count": 3,
   "metadata": {
    "id": "UPAvQttEcaG8"
   },
   "outputs": [],
   "source": [
    "import mlflow\n",
    "import mlflow.keras\n",
    "\n",
    "from mlflow import log_metric, log_param, log_artifacts\n",
    "mlflow.set_experiment(\"Classification\")\n",
    "\n",
    "mlflow.tensorflow.autolog()    \n",
    "#mlflow.keras.autolog()"
   ]
  },
  {
   "cell_type": "code",
   "execution_count": 4,
   "metadata": {
    "id": "o-IDTdjD0Zl1"
   },
   "outputs": [],
   "source": [
    "# Plot Function that takes a History object as input variable and the name of the metric to be plotted\n",
    "def plot_graphs(history, metric):\n",
    "  plt.plot(history.history[metric])              # history.history attribute is a record of training/validation- \n",
    "  plt.plot(history.history['val_'+metric], '')   # Loss values and metrics values at sucessive epochs\n",
    "  plt.xlabel(\"Epochs\")\n",
    "  plt.ylabel(metric)\n",
    "  plt.legend([metric, 'val_'+metric])"
   ]
  },
  {
   "cell_type": "markdown",
   "metadata": {
    "id": "07QknpUQ0Zl1"
   },
   "source": [
    "# 3. Load the dataset into tf.keras"
   ]
  },
  {
   "cell_type": "markdown",
   "metadata": {
    "id": "GxFquaKB0Zl1"
   },
   "source": [
    "## 3.1 Convert the dataset into a file structure that can be read by tf.keras.preprocessing"
   ]
  },
  {
   "cell_type": "code",
   "execution_count": 5,
   "metadata": {
    "id": "kU9-1R_P0Zl2",
    "outputId": "ab1df19a-010f-4387-bc56-5e13ee6045f0",
    "scrolled": true
   },
   "outputs": [
    {
     "data": {
      "text/html": [
       "<div>\n",
       "<style scoped>\n",
       "    .dataframe tbody tr th:only-of-type {\n",
       "        vertical-align: middle;\n",
       "    }\n",
       "\n",
       "    .dataframe tbody tr th {\n",
       "        vertical-align: top;\n",
       "    }\n",
       "\n",
       "    .dataframe thead th {\n",
       "        text-align: right;\n",
       "    }\n",
       "</style>\n",
       "<table border=\"1\" class=\"dataframe\">\n",
       "  <thead>\n",
       "    <tr style=\"text-align: right;\">\n",
       "      <th></th>\n",
       "      <th>Name</th>\n",
       "      <th>File_type</th>\n",
       "      <th>Service</th>\n",
       "    </tr>\n",
       "  </thead>\n",
       "  <tbody>\n",
       "    <tr>\n",
       "      <th>0</th>\n",
       "      <td>200903   07 PfR21 HQ Budget   Decelerate   Inp...</td>\n",
       "      <td>ppt</td>\n",
       "      <td>FAD</td>\n",
       "    </tr>\n",
       "    <tr>\n",
       "      <th>1</th>\n",
       "      <td>FTE Control DP xls</td>\n",
       "      <td>xls</td>\n",
       "      <td>FAD</td>\n",
       "    </tr>\n",
       "    <tr>\n",
       "      <th>2</th>\n",
       "      <td>2020 09 03 ICRC Letter re IRS Correspondence w...</td>\n",
       "      <td>pdf</td>\n",
       "      <td>FAD</td>\n",
       "    </tr>\n",
       "    <tr>\n",
       "      <th>3</th>\n",
       "      <td>supporting organizations practice guide pdf</td>\n",
       "      <td>pdf</td>\n",
       "      <td>FAD</td>\n",
       "    </tr>\n",
       "    <tr>\n",
       "      <th>4</th>\n",
       "      <td>2019 06 19 PWS JEH FL Bar Tax intl charitable ...</td>\n",
       "      <td>pdf</td>\n",
       "      <td>FAD</td>\n",
       "    </tr>\n",
       "    <tr>\n",
       "      <th>...</th>\n",
       "      <td>...</td>\n",
       "      <td>...</td>\n",
       "      <td>...</td>\n",
       "    </tr>\n",
       "    <tr>\n",
       "      <th>185723</th>\n",
       "      <td>Test pg 0 pdf</td>\n",
       "      <td>pdf</td>\n",
       "      <td>PROT</td>\n",
       "    </tr>\n",
       "    <tr>\n",
       "      <th>185724</th>\n",
       "      <td>Full test negotiation pdf</td>\n",
       "      <td>pdf</td>\n",
       "      <td>PROT</td>\n",
       "    </tr>\n",
       "    <tr>\n",
       "      <th>185725</th>\n",
       "      <td>Gaza PCPiE LL Pres 24 11 2017 EGY ppt</td>\n",
       "      <td>ppt</td>\n",
       "      <td>PROT</td>\n",
       "    </tr>\n",
       "    <tr>\n",
       "      <th>185726</th>\n",
       "      <td>ECS PCP CoH EWPA+Ben ppt</td>\n",
       "      <td>ppt</td>\n",
       "      <td>PROT</td>\n",
       "    </tr>\n",
       "    <tr>\n",
       "      <th>185727</th>\n",
       "      <td>WeC and WATHAB questions ppt</td>\n",
       "      <td>ppt</td>\n",
       "      <td>PROT</td>\n",
       "    </tr>\n",
       "  </tbody>\n",
       "</table>\n",
       "<p>185728 rows × 3 columns</p>\n",
       "</div>"
      ],
      "text/plain": [
       "                                                     Name File_type Service\n",
       "0       200903   07 PfR21 HQ Budget   Decelerate   Inp...       ppt     FAD\n",
       "1                                      FTE Control DP xls       xls     FAD\n",
       "2       2020 09 03 ICRC Letter re IRS Correspondence w...       pdf     FAD\n",
       "3             supporting organizations practice guide pdf       pdf     FAD\n",
       "4       2019 06 19 PWS JEH FL Bar Tax intl charitable ...       pdf     FAD\n",
       "...                                                   ...       ...     ...\n",
       "185723                                      Test pg 0 pdf       pdf    PROT\n",
       "185724                          Full test negotiation pdf       pdf    PROT\n",
       "185725              Gaza PCPiE LL Pres 24 11 2017 EGY ppt       ppt    PROT\n",
       "185726                           ECS PCP CoH EWPA+Ben ppt       ppt    PROT\n",
       "185727                       WeC and WATHAB questions ppt       ppt    PROT\n",
       "\n",
       "[185728 rows x 3 columns]"
      ]
     },
     "execution_count": 5,
     "metadata": {},
     "output_type": "execute_result"
    }
   ],
   "source": [
    "# load the dataset for our M3 Project\n",
    "df = pd.read_csv('CleanTitle.csv', usecols=[1,2,3], encoding='utf-8')\n",
    "df"
   ]
  },
  {
   "cell_type": "code",
   "execution_count": 6,
   "metadata": {
    "id": "0muMk4XZ0Zl3"
   },
   "outputs": [],
   "source": [
    "# Define the path of the directory where all the files will be stored\n",
    "files_dir = './../../Title-Files'"
   ]
  },
  {
   "cell_type": "code",
   "execution_count": 7,
   "metadata": {
    "id": "Z0S51v5VcaG_",
    "outputId": "5ff4393e-e273-46c6-ae12-ec9f25f8f3e8"
   },
   "outputs": [
    {
     "name": "stdout",
     "output_type": "stream",
     "text": [
      "Directory ./../../Title-Files already exist\n"
     ]
    }
   ],
   "source": [
    " # Check whether the specified path is already present or not  \n",
    "if os.path.isdir(files_dir):\n",
    "    print(\"Directory \" +files_dir +\" already exist\")\n",
    "else:\n",
    "    print(\"Directory \" +files_dir +\" will be created\")\n",
    "    os.mkdir(files_dir) # Create the root directory\n",
    "    os.mkdir(files_dir+'/FAD/') # Create the sub-directories\n",
    "    os.mkdir(files_dir+'/REM/')\n",
    "    os.mkdir(files_dir+'/PROT/')\n",
    "    os.mkdir(files_dir+'/ASSIST/')\n",
    "    \n",
    "    df_FAD = df.loc[df['Service'].isin(['FAD'])] # Create a df with the \"FAD\" category\n",
    "    # Create separate title-files within the \"FAD\" sub-directory\n",
    "    i=0\n",
    "    for index, row in df_FAD.iterrows():\n",
    "        if i > len(df_FAD):\n",
    "           break\n",
    "        else:\n",
    "           f = open(files_dir + '/FAD/' + str(i) + '.txt', 'w', encoding='utf-8')\n",
    "           f.write(row[0])\n",
    "           f.close()\n",
    "           i+=1\n",
    "\n",
    "\n",
    "    df_REM = df.loc[df['Service'].isin(['REM'])] # Create separate title-files within the \"REM\" sub-directory\n",
    "    i=0\n",
    "    for index, row in df_REM.iterrows():\n",
    "        if i > len(df_REM):\n",
    "           break\n",
    "        else:\n",
    "           f = open(files_dir + '/REM/'+ str(i) + '.txt', 'w', encoding='utf-8')\n",
    "           f.write(row[0])\n",
    "           f.close()\n",
    "           i+=1\n",
    "\n",
    "\n",
    "    df_PROT = df.loc[df['Service'].isin(['PROT'])] # Create separate title-files within the \"PROT\" sub-directory\n",
    "    i=0\n",
    "    for index, row in df_PROT.iterrows():\n",
    "        if i > len(df_PROT):\n",
    "           break\n",
    "        else:\n",
    "           f = open(files_dir + '/PROT/'+ str(i) + '.txt', 'w', encoding='utf-8')\n",
    "           f.write(row[0])\n",
    "           f.close()\n",
    "           i+=1\n",
    "\n",
    "\n",
    "    df_ASSIST = df.loc[df['Service'].isin(['ASSIST'])] # Create separate title-files within the \"ASSIST\" sub-directory\n",
    "    i=0\n",
    "    for index, row in df_ASSIST.iterrows():\n",
    "        if i > len(df_ASSIST):\n",
    "           break\n",
    "        else:\n",
    "           f = open(files_dir + '/ASSIST/'+ str(i) + '.txt', 'w', encoding='utf-8')\n",
    "           f.write(row[0])\n",
    "           f.close()\n",
    "           i+=1"
   ]
  },
  {
   "cell_type": "markdown",
   "metadata": {
    "id": "SKBCs2TH0Zl4"
   },
   "source": [
    "## 3.2 Create the training and Validation data set\n",
    "### 3.2.1 Considerations about data sets:\n",
    "\n",
    "The usual industry standard when splitting datasets is to create three different datasets:\n",
    "- Training: the dataset that will train the machine. This is the first split\n",
    "- Validation: a dataset not seen before by the computer, to check the accuracy of the training, assess overfitting, etc. This set will serve to see how good is our model. However, the model is modified several times (learning rate, layers...) to reach maximum efficiency\n",
    "- Test: A dataset used to provide an unbiased evaluation of a final model fit on the training dataset. This one is used to be sure that our model is good in general, and not only for the Validation Dataset. \n",
    "\n",
    "However, in testing projects or academia, and for models that will not be paid for, it is usual to use only two datasets. This is the approach chosen for our project"
   ]
  },
  {
   "cell_type": "code",
   "execution_count": 8,
   "metadata": {
    "id": "gRsnCjVt0Zl4"
   },
   "outputs": [],
   "source": [
    "# Define the batch size and the seed\n",
    "batch_size = 32\n",
    "seed = 42"
   ]
  },
  {
   "cell_type": "code",
   "execution_count": 9,
   "metadata": {
    "colab": {
     "base_uri": "https://localhost:8080/",
     "height": 391
    },
    "id": "RnA_oLZw0Zl4",
    "outputId": "cfe1560a-8bcc-46d2-8b07-ab2dedb01a7c"
   },
   "outputs": [
    {
     "name": "stdout",
     "output_type": "stream",
     "text": [
      "Found 183320 files belonging to 4 classes.\n",
      "Using 146656 files for training.\n",
      "Label 0 corresponds to ASSIST\n",
      "Label 1 corresponds to FAD\n",
      "Label 2 corresponds to PROT\n",
      "Label 3 corresponds to REM\n"
     ]
    }
   ],
   "source": [
    "# Training data set: \"raw_train_ds\" is a \"tf.data.Dataset\" object\n",
    "raw_train_ds = preprocessing.text_dataset_from_directory(\n",
    "    files_dir,\n",
    "    batch_size=batch_size,\n",
    "    validation_split=0.2,\n",
    "    subset='training',\n",
    "    seed=seed)\n",
    "\n",
    "# Check which label correspond to which number\n",
    "for i, label in enumerate(raw_train_ds.class_names):\n",
    "  print(\"Label\", i, \"corresponds to\", label)"
   ]
  },
  {
   "cell_type": "code",
   "execution_count": 10,
   "metadata": {
    "id": "DJRydoG50Zl5",
    "outputId": "53a33e28-69d3-4460-8282-1ebf81a7323a"
   },
   "outputs": [
    {
     "name": "stdout",
     "output_type": "stream",
     "text": [
      "Found 183320 files belonging to 4 classes.\n",
      "Using 36664 files for validation.\n"
     ]
    }
   ],
   "source": [
    "# Validation data set: \"raw_val_ds\" is a \"tf.data.Dataset\" object\n",
    "raw_val_ds = preprocessing.text_dataset_from_directory(\n",
    "    files_dir,\n",
    "    batch_size=batch_size,\n",
    "    validation_split=0.2,\n",
    "    subset='validation',\n",
    "    seed=seed)"
   ]
  },
  {
   "cell_type": "markdown",
   "metadata": {
    "id": "6ZAaJZaacaHB"
   },
   "source": [
    " Number of titles for each department/class (Total 183'320 Titles):\n",
    " - \"ASSIT\" Department :  24'604 Titles\n",
    " - \"FAD\" Department:     85'122 Titles\n",
    " - \"PROT\" Department:    44'794 Titles\n",
    " - \"REM\" Document:       28'800 Titles\n",
    " \n",
    " Note: We have also done tests with the same number of title per department/class and we get similar results"
   ]
  },
  {
   "cell_type": "markdown",
   "metadata": {
    "id": "-6anCLAN0Zl5"
   },
   "source": [
    "# 4. Prepare the text data - Text Vectorization\n",
    "\"TextVectorization\" : transforms a batch of strings into either a list of token indices (one sample = 1D tensor of integer token indices) or a dense representation (one sample = 1D tensor of float values representing data about the sample's tokens)\n",
    "https://www.tensorflow.org/api_docs/python/tf/keras/layers/experimental/preprocessing/TextVectorization\n",
    "\n",
    "The processing of each sample contains the following steps:\n",
    "\n",
    "- standardize each sample (usually lowercasing + punctuation stripping)\n",
    "- split each sample into substrings (usually words)\n",
    "- recombine substrings into tokens (usually ngrams)\n",
    "- index tokens (associate a unique int value with each token)\n",
    "- transform each sample using this index, either into a vector of ints or a dense float vector"
   ]
  },
  {
   "cell_type": "markdown",
   "metadata": {
    "id": "7CKliXI54HcZ"
   },
   "source": [
    "Then, we use two modes:\n",
    "## Binary Text Vectorization\n",
    "returns an array denoting which tokens (words) exist at least once in the input. \n",
    "## Integer Text Vectorization\n",
    "replaces each token by an integer, respecting their order.\n",
    "\n",
    "\n"
   ]
  },
  {
   "cell_type": "markdown",
   "metadata": {},
   "source": [
    "This can be seen with the `print` command below."
   ]
  },
  {
   "cell_type": "code",
   "execution_count": 11,
   "metadata": {
    "id": "iR_0HU-ucaHC"
   },
   "outputs": [],
   "source": [
    "VOCAB_SIZE = 10000"
   ]
  },
  {
   "cell_type": "code",
   "execution_count": 12,
   "metadata": {
    "id": "8wtxHWx_caHC"
   },
   "outputs": [],
   "source": [
    "# TextVectorization is used with \"binary\" output_mode:\n",
    "# The output is a single array per batch, with a size of VOCAB_SIZE\n",
    "# This array contains 1s in all elements where the token mapped to that index exist at least once in the batch item\n",
    "binary_vectorize_layer = TextVectorization(\n",
    "    max_tokens=VOCAB_SIZE,\n",
    "    output_mode='binary')"
   ]
  },
  {
   "cell_type": "markdown",
   "metadata": {
    "id": "DuSRJAkHcaHC"
   },
   "source": [
    "### output_mode: \n",
    "\n",
    "Optional specification for the output of the layer. Values can be \"int\", \"binary\", \"count\" or \"tf-idf\", configuring the layer as follows: \"int\": Outputs integer indices, one integer index per split string token. When output == \"int\", 0 is reserved for masked locations; this reduces the vocab size to max_tokens-2 instead of max_tokens-1 \"binary\": Outputs a single int array per batch, of either vocab_size or max_tokens size, containing 1s in all elements where the token mapped to that index exists at least once in the batch item. \"count\": As \"binary\", but the int array contains a count of the number of times the token at that index appeared in the batch item. \"tf-idf\": As \"binary\", but the TF-IDF algorithm is applied to find the value in each token slot.\n",
    "\n",
    "### output_sequence_length:\n",
    "\n",
    "Only valid in INT mode. If set, the output will have its time dimension padded or truncated to exactly output_sequence_length values, resulting in a tensor of shape [batch_size, output_sequence_length] regardless of how many tokens resulted from the splitting step. Defaults to None."
   ]
  },
  {
   "cell_type": "code",
   "execution_count": 13,
   "metadata": {
    "id": "BMcBugWK0Zl6"
   },
   "outputs": [],
   "source": [
    "# TextVectorization is used with \"INT\" output_mode:\n",
    "# The output is an array with integer indices, one integer index per split string token.\n",
    "# The output sequence is truncated to MAX_SEQUENCE_LENGTH, regardless of how many token resulted from the splitting step\n",
    "MAX_SEQUENCE_LENGTH = 25\n",
    "\n",
    "int_vectorize_layer = TextVectorization(\n",
    "    max_tokens=VOCAB_SIZE,\n",
    "    output_mode='int',\n",
    "    output_sequence_length=MAX_SEQUENCE_LENGTH)"
   ]
  },
  {
   "cell_type": "markdown",
   "metadata": {
    "id": "MG5bJj8v0Zl6"
   },
   "source": [
    "### Turning strings into numerical values:\n",
    "\n",
    "Using a text-only dataset (without the labels), we use the adapt function to build an index of strings to integers."
   ]
  },
  {
   "cell_type": "code",
   "execution_count": 14,
   "metadata": {
    "id": "1IIng2lq0Zl7"
   },
   "outputs": [],
   "source": [
    "# Make a text-only dataset (without labels)\n",
    "# \"adapt\" is used to fit the state of the preprocessing layer to the dataset.\n",
    "# This will cause the model to build an index of strings to integers.\n",
    "train_text = raw_train_ds.map(lambda text, labels: text)\n",
    "binary_vectorize_layer.adapt(train_text)\n",
    "int_vectorize_layer.adapt(train_text)"
   ]
  },
  {
   "cell_type": "code",
   "execution_count": 15,
   "metadata": {
    "id": "8UUQtoRJ0Zl7"
   },
   "outputs": [],
   "source": [
    "def binary_vectorize_text(text, label):\n",
    "  text = tf.expand_dims(text, -1)\n",
    "  return binary_vectorize_layer(text), label"
   ]
  },
  {
   "cell_type": "code",
   "execution_count": 16,
   "metadata": {
    "id": "wZjuCydX0Zl7"
   },
   "outputs": [],
   "source": [
    "def int_vectorize_text(text, label):\n",
    "  text = tf.expand_dims(text, -1)\n",
    "  return int_vectorize_layer(text), label"
   ]
  },
  {
   "cell_type": "code",
   "execution_count": 17,
   "metadata": {
    "id": "YGMLPQkF0Zl7",
    "outputId": "2ff3fbbb-5cdc-41aa-b6f1-457c5702e78f"
   },
   "outputs": [
    {
     "name": "stdout",
     "output_type": "stream",
     "text": [
      "Document Title: tf.Tensor(b'CICR logo gif', shape=(), dtype=string)\n",
      "Label: tf.Tensor(1, shape=(), dtype=int32)\n"
     ]
    }
   ],
   "source": [
    "# Retrieve a batch (of 32 titles and labels) from the dataset\n",
    "text_batch, label_batch = next(iter(raw_train_ds))\n",
    "first_title, first_label = text_batch[0], label_batch[0]\n",
    "print(\"Document Title:\", first_title)\n",
    "print(\"Label:\", first_label)"
   ]
  },
  {
   "cell_type": "code",
   "execution_count": 18,
   "metadata": {
    "id": "srcC6OTx0Zl8",
    "outputId": "dcaf3022-9b55-42dc-ba29-a6856dff00cf"
   },
   "outputs": [
    {
     "name": "stdout",
     "output_type": "stream",
     "text": [
      "'binary' vectorized Document Title:\n",
      "tf.Tensor([[0. 0. 0. ... 0. 0. 0.]], shape=(1, 10000), dtype=float32)\n"
     ]
    }
   ],
   "source": [
    "print(\"'binary' vectorized Document Title:\")\n",
    "print(binary_vectorize_text(first_title, first_label)[0])"
   ]
  },
  {
   "cell_type": "code",
   "execution_count": 19,
   "metadata": {
    "id": "Ep3mIRxf0Zl8",
    "outputId": "319f3284-332c-4a2e-9679-fef770f4701a",
    "scrolled": true
   },
   "outputs": [
    {
     "name": "stdout",
     "output_type": "stream",
     "text": [
      "'int' vectorized Document Title: tf.Tensor(\n",
      "[[  53 1076   37    0    0    0    0    0    0    0    0    0    0    0\n",
      "     0    0    0    0    0    0    0    0    0    0    0]], shape=(1, 25), dtype=int64)\n"
     ]
    }
   ],
   "source": [
    "print(\"'int' vectorized Document Title:\",\n",
    "      int_vectorize_text(first_title, first_label)[0])"
   ]
  },
  {
   "cell_type": "markdown",
   "metadata": {
    "id": "jwfHY7PC6mid"
   },
   "source": [
    "### finalizing the preparation of the dataset\n",
    "As the final step, we apply the `TextVectorization` function we defined above to the train and validation datasets:"
   ]
  },
  {
   "cell_type": "code",
   "execution_count": 20,
   "metadata": {
    "id": "c833V7Rz0Zl8"
   },
   "outputs": [],
   "source": [
    "# Train and Validation Data Set with the Binary Vectorization\n",
    "binary_train_ds = raw_train_ds.map(binary_vectorize_text)\n",
    "binary_val_ds = raw_val_ds.map(binary_vectorize_text)\n",
    "\n",
    "# Train and Validation Data Set with the INT Vectorization\n",
    "int_train_ds = raw_train_ds.map(int_vectorize_text)\n",
    "int_val_ds = raw_val_ds.map(int_vectorize_text)"
   ]
  },
  {
   "cell_type": "markdown",
   "metadata": {
    "id": "n-Q6tIEy7zw_"
   },
   "source": [
    "# 5. Train and optimize the 2 models"
   ]
  },
  {
   "cell_type": "markdown",
   "metadata": {
    "id": "fh2-EX7s7l61"
   },
   "source": [
    "## Taking care of performance:\n",
    "Since the volume of our dataset is quite big, we use two methods to optimize the performance of the machine:\n",
    "- `cache()` keeps data in memory after it is taken from the disk. This ensures that our data is not a bottleneck that slows the whole process.\n",
    "- `prefetch()` overlaps data preprocessing and model execution while training the model."
   ]
  },
  {
   "cell_type": "code",
   "execution_count": 21,
   "metadata": {
    "id": "a1_yyFJY0Zl9"
   },
   "outputs": [],
   "source": [
    "AUTOTUNE = tf.data.AUTOTUNE\n",
    "\n",
    "def configure_dataset(dataset):\n",
    "  return dataset.cache().prefetch(buffer_size=AUTOTUNE)"
   ]
  },
  {
   "cell_type": "markdown",
   "metadata": {
    "id": "2kTn0j7x8xb0"
   },
   "source": [
    "We apply the function above to our training and validation datasets."
   ]
  },
  {
   "cell_type": "code",
   "execution_count": 22,
   "metadata": {
    "id": "vRIsjy5r0Zl9"
   },
   "outputs": [],
   "source": [
    "binary_train_ds = configure_dataset(binary_train_ds)\n",
    "binary_val_ds = configure_dataset(binary_val_ds)\n",
    "\n",
    "int_train_ds = configure_dataset(int_train_ds)\n",
    "int_val_ds = configure_dataset(int_val_ds)"
   ]
  },
  {
   "cell_type": "markdown",
   "metadata": {
    "id": "RO9r4a060Zl9"
   },
   "source": [
    "## Model A / Binary Vectorization - Linear Model\n",
    "We now create our neural network. For the binary vectorized data, we train a simple bag-of-words linear model:"
   ]
  },
  {
   "cell_type": "code",
   "execution_count": 24,
   "metadata": {
    "id": "hYTPZztpcaHG"
   },
   "outputs": [
    {
     "name": "stderr",
     "output_type": "stream",
     "text": [
      "2021/03/10 22:12:04 WARNING mlflow.utils.autologging_utils: Encountered unexpected error during autologging: This model has not yet been built. Build the model first by calling `build()` or calling `fit()` with some data, or specify an `input_shape` argument in the first layer(s) for automatic build.\n"
     ]
    },
    {
     "name": "stdout",
     "output_type": "stream",
     "text": [
      "Epoch 1/10\n",
      "4583/4583 [==============================] - 1225s 267ms/step - loss: 0.8866 - accuracy: 0.6858 - val_loss: 0.5217 - val_accuracy: 0.8307\n",
      "Epoch 2/10\n",
      "4583/4583 [==============================] - 32s 7ms/step - loss: 0.4706 - accuracy: 0.8504 - val_loss: 0.4206 - val_accuracy: 0.8600\n",
      "Epoch 3/10\n",
      "4583/4583 [==============================] - 26s 6ms/step - loss: 0.3818 - accuracy: 0.8764 - val_loss: 0.3796 - val_accuracy: 0.8708\n",
      "Epoch 4/10\n",
      "4583/4583 [==============================] - 25s 5ms/step - loss: 0.3399 - accuracy: 0.8870 - val_loss: 0.3581 - val_accuracy: 0.8758\n",
      "Epoch 5/10\n",
      "4583/4583 [==============================] - 44s 10ms/step - loss: 0.3149 - accuracy: 0.8929 - val_loss: 0.3452 - val_accuracy: 0.8791\n",
      "Epoch 6/10\n",
      "4583/4583 [==============================] - 25s 5ms/step - loss: 0.2981 - accuracy: 0.8976 - val_loss: 0.3371 - val_accuracy: 0.8824\n",
      "Epoch 7/10\n",
      "4583/4583 [==============================] - 27s 6ms/step - loss: 0.2858 - accuracy: 0.9011 - val_loss: 0.3317 - val_accuracy: 0.8840\n",
      "Epoch 8/10\n",
      "4583/4583 [==============================] - 29s 6ms/step - loss: 0.2763 - accuracy: 0.9038 - val_loss: 0.3281 - val_accuracy: 0.8854\n",
      "Epoch 9/10\n",
      "4583/4583 [==============================] - 27s 6ms/step - loss: 0.2688 - accuracy: 0.9060 - val_loss: 0.3257 - val_accuracy: 0.8859\n",
      "Epoch 10/10\n",
      "4583/4583 [==============================] - 23s 5ms/step - loss: 0.2627 - accuracy: 0.9078 - val_loss: 0.3243 - val_accuracy: 0.8861\n",
      "INFO:tensorflow:Assets written to: C:\\Users\\lione\\AppData\\Local\\Temp\\tmpmmvy350_\\model\\data\\model\\assets\n"
     ]
    },
    {
     "name": "stderr",
     "output_type": "stream",
     "text": [
      "2021/03/10 22:36:49 WARNING mlflow.utils.autologging_utils: MLflow issued a warning during tensorflow autologging: \"C:\\Users\\lione\\anaconda3\\envs\\TF\\lib\\site-packages\\mlflow\\tensorflow.py:794: UserWarning: Logging to MLflow failed: 'utf-8' codec can't decode byte 0xe9 in position 48: invalid continuation byte\"\n",
      "2021/03/10 22:36:49 WARNING mlflow.utils.autologging_utils: MLflow issued a warning during tensorflow autologging: \"C:\\Users\\lione\\anaconda3\\envs\\TF\\lib\\site-packages\\mlflow\\tensorflow.py:597: UserWarning: Logging to MLflow failed: 'utf-8' codec can't decode byte 0xe9 in position 48: invalid continuation byte\"\n"
     ]
    }
   ],
   "source": [
    "binary_model = tf.keras.Sequential([layers.Dense(4, activation='softmax')])\n",
    "\n",
    "binary_model.compile(\n",
    "    loss='sparse_categorical_crossentropy',\n",
    "    optimizer=tf.optimizers.Adam(learning_rate=0.001),\n",
    "    metrics=['accuracy'])\n",
    "\n",
    "history = binary_model.fit(\n",
    "    binary_train_ds,\n",
    "    validation_data=binary_val_ds,\n",
    "    epochs=10)"
   ]
  },
  {
   "cell_type": "code",
   "execution_count": 25,
   "metadata": {
    "id": "RsiCw3mfcaHG"
   },
   "outputs": [
    {
     "data": {
      "text/plain": [
       "(0.0, 0.7288983017206192)"
      ]
     },
     "execution_count": 25,
     "metadata": {},
     "output_type": "execute_result"
    },
    {
     "data": {
      "image/png": "[encoded data removed]",
      "text/plain": [
       "<Figure size 1152x576 with 2 Axes>"
      ]
     },
     "metadata": {
      "needs_background": "light"
     },
     "output_type": "display_data"
    }
   ],
   "source": [
    "#Plot\n",
    "plt.figure(figsize=(16,8))\n",
    "plt.subplot(1,2,1)\n",
    "plot_graphs(history, 'accuracy')\n",
    "plt.ylim(None,1)\n",
    "plt.subplot(1,2,2)\n",
    "plot_graphs(history, 'loss')\n",
    "plt.ylim(0,None)"
   ]
  },
  {
   "cell_type": "markdown",
   "metadata": {
    "id": "pgMeWfB7caHG"
   },
   "source": [
    "#### The results is quite good, almost 90% val_accuracy, lets see how our second model does with same learning rate and same number of Epoch"
   ]
  },
  {
   "cell_type": "markdown",
   "metadata": {
    "id": "uFzBGOI8caHG"
   },
   "source": [
    "## Model B / Integer Vectorization - CNN model\n",
    "We use a neural network with 4 layers, please refer to architecture detailed explanation at the end of this notebook\n",
    "<img src=\"https://miro.medium.com/max/1236/1*BEaZkpZJ4mFR-i2U4VOXsA.png\" width=\"800\">\n",
    "#### 1: Embedding Layer \n",
    "Takes as input integer encoded text and initializes random or pre-trained word embedding weights \n",
    "#### 2: Convolutional Layer\n",
    "Takes the texts transformed to sequences of word embeddings as input and creates feature vectors by analysing the word embeddings for each text\n",
    "#### 3: Global Max Pooling Layer\n",
    "Takes the variable-length feature vectors of the convolutional layer as input, and creates fixed-length vectors out of them. By creating these fixed-length feature vectors, the less-relevant local information is removed.\n",
    "#### 4: Fully-Connected Dense Layer with Softmax\n",
    "Takes the fixed-length feature vectors as input and provide as output numerical values for each class. Softmax provides predicted probabilies for each class"
   ]
  },
  {
   "cell_type": "code",
   "execution_count": 26,
   "metadata": {
    "id": "Zwrjztqd0Zl_",
    "outputId": "a3d6a008-b689-4772-a8cb-55f420e4ff65",
    "scrolled": true
   },
   "outputs": [
    {
     "name": "stderr",
     "output_type": "stream",
     "text": [
      "2021/03/10 22:36:50 WARNING mlflow.utils.autologging_utils: MLflow issued a warning during tensorflow autologging: \"C:\\Users\\lione\\anaconda3\\envs\\TF\\lib\\site-packages\\mlflow\\tensorflow.py:780: UserWarning: Logging to MLflow failed: 'utf-8' codec can't decode byte 0xe9 in position 48: invalid continuation byte\"\n"
     ]
    },
    {
     "name": "stdout",
     "output_type": "stream",
     "text": [
      "Epoch 1/10\n",
      "   6/4583 [..............................] - ETA: 35:18 - loss: 1.3711 - accuracy: 0.2991 WARNING:tensorflow:Callback method `on_train_batch_end` is slow compared to the batch time (batch time: 0.1137s vs `on_train_batch_end` time: 0.2912s). Check your callbacks.\n",
      "4583/4583 [==============================] - 1190s 259ms/step - loss: 0.5475 - accuracy: 0.7903 - val_loss: 0.2910 - val_accuracy: 0.8979\n",
      "Epoch 2/10\n",
      "4583/4583 [==============================] - 44s 10ms/step - loss: 0.2368 - accuracy: 0.9183 - val_loss: 0.2848 - val_accuracy: 0.9045\n",
      "Epoch 3/10\n",
      "4583/4583 [==============================] - 44s 10ms/step - loss: 0.1767 - accuracy: 0.9405 - val_loss: 0.3043 - val_accuracy: 0.9035\n",
      "Epoch 4/10\n",
      "4583/4583 [==============================] - 44s 10ms/step - loss: 0.1368 - accuracy: 0.9546 - val_loss: 0.3375 - val_accuracy: 0.9016\n",
      "Epoch 5/10\n",
      "4583/4583 [==============================] - 45s 10ms/step - loss: 0.1089 - accuracy: 0.9647 - val_loss: 0.3811 - val_accuracy: 0.9017\n",
      "Epoch 6/10\n",
      "4583/4583 [==============================] - 45s 10ms/step - loss: 0.0898 - accuracy: 0.9706 - val_loss: 0.4276 - val_accuracy: 0.9009\n",
      "Epoch 7/10\n",
      "4583/4583 [==============================] - 45s 10ms/step - loss: 0.0770 - accuracy: 0.9758 - val_loss: 0.4697 - val_accuracy: 0.8997\n",
      "Epoch 8/10\n",
      "4583/4583 [==============================] - 47s 10ms/step - loss: 0.0689 - accuracy: 0.9785 - val_loss: 0.5055 - val_accuracy: 0.8991\n",
      "Epoch 9/10\n",
      "4583/4583 [==============================] - 53s 12ms/step - loss: 0.0632 - accuracy: 0.9810 - val_loss: 0.5410 - val_accuracy: 0.8976\n",
      "Epoch 10/10\n",
      "4583/4583 [==============================] - 58s 13ms/step - loss: 0.0592 - accuracy: 0.9821 - val_loss: 0.5680 - val_accuracy: 0.8967\n",
      "INFO:tensorflow:Assets written to: C:\\Users\\lione\\AppData\\Local\\Temp\\tmpw4wy5_2w\\model\\data\\model\\assets\n"
     ]
    },
    {
     "name": "stderr",
     "output_type": "stream",
     "text": [
      "2021/03/10 23:03:48 WARNING mlflow.utils.autologging_utils: MLflow issued a warning during tensorflow autologging: \"C:\\Users\\lione\\anaconda3\\envs\\TF\\lib\\site-packages\\mlflow\\tensorflow.py:794: UserWarning: Logging to MLflow failed: 'utf-8' codec can't decode byte 0xe9 in position 48: invalid continuation byte\"\n",
      "2021/03/10 23:03:48 WARNING mlflow.utils.autologging_utils: MLflow issued a warning during tensorflow autologging: \"C:\\Users\\lione\\anaconda3\\envs\\TF\\lib\\site-packages\\mlflow\\tensorflow.py:597: UserWarning: Logging to MLflow failed: 'utf-8' codec can't decode byte 0xe9 in position 48: invalid continuation byte\"\n"
     ]
    }
   ],
   "source": [
    "# vocab_size is VOCAB_SIZE + 1 since 0 is used additionally for padding.\n",
    "int_model =  tf.keras.Sequential([\n",
    "    layers.Embedding(input_dim=VOCAB_SIZE + 1,\n",
    "                     output_dim=64,\n",
    "                     mask_zero=True), # input value 0: special \"padding\" value - masked out\n",
    "    layers.Conv1D(filters=64, kernel_size=5, padding=\"valid\", activation=\"relu\", strides=2),\n",
    "    layers.GlobalMaxPooling1D(),\n",
    "    layers.Dense(4, activation='softmax')\n",
    "])\n",
    "\n",
    "int_model.compile(\n",
    "    loss='sparse_categorical_crossentropy',\n",
    "    optimizer=tf.optimizers.Adam(learning_rate=0.001),\n",
    "    metrics=['accuracy'])\n",
    "history = int_model.fit(int_train_ds, validation_data=int_val_ds, epochs=10)"
   ]
  },
  {
   "cell_type": "code",
   "execution_count": 27,
   "metadata": {
    "id": "23dKpL410Zl_",
    "outputId": "a52cfb89-0bf0-4eb0-84f9-60346b9ba4e3",
    "scrolled": true
   },
   "outputs": [
    {
     "data": {
      "text/plain": [
       "(0.0, 0.5934882761910558)"
      ]
     },
     "execution_count": 27,
     "metadata": {},
     "output_type": "execute_result"
    },
    {
     "data": {
      "image/png": "[encoded data removed]",
      "text/plain": [
       "<Figure size 1152x576 with 2 Axes>"
      ]
     },
     "metadata": {
      "needs_background": "light"
     },
     "output_type": "display_data"
    }
   ],
   "source": [
    "#Plot\n",
    "plt.figure(figsize=(16,8))\n",
    "plt.subplot(1,2,1)\n",
    "plot_graphs(history, 'accuracy')\n",
    "plt.ylim(None,1)\n",
    "plt.subplot(1,2,2)\n",
    "plot_graphs(history, 'loss')\n",
    "plt.ylim(0,None)"
   ]
  },
  {
   "cell_type": "markdown",
   "metadata": {
    "id": "srbxgKPtcaHI"
   },
   "source": [
    "#### We notice that the model is overfitting, as val_loss is increasing after Epoch 1, so let's try to change learning rate to 0.00005"
   ]
  },
  {
   "cell_type": "code",
   "execution_count": 28,
   "metadata": {
    "id": "zUFtqCiHcaHI",
    "outputId": "bcf165c8-cb55-47fc-af8d-d03036644879"
   },
   "outputs": [
    {
     "name": "stderr",
     "output_type": "stream",
     "text": [
      "2021/03/10 23:03:49 WARNING mlflow.utils.autologging_utils: MLflow issued a warning during tensorflow autologging: \"C:\\Users\\lione\\anaconda3\\envs\\TF\\lib\\site-packages\\mlflow\\tensorflow.py:770: UserWarning: Logging to MLflow failed: Changing param values is not allowed. Param with key='opt_learning_rate' was already logged with value='0.001' for run ID='45734f2cbf814968912becffe1fced2c'. Attempted logging new value '5e-05'.\"\n",
      "2021/03/10 23:03:49 WARNING mlflow.utils.autologging_utils: MLflow issued a warning during tensorflow autologging: \"C:\\Users\\lione\\anaconda3\\envs\\TF\\lib\\site-packages\\mlflow\\tensorflow.py:780: UserWarning: Logging to MLflow failed: 'utf-8' codec can't decode byte 0xe9 in position 48: invalid continuation byte\"\n"
     ]
    },
    {
     "name": "stdout",
     "output_type": "stream",
     "text": [
      "Epoch 1/10\n",
      "   3/4583 [..............................] - ETA: 44:13 - loss: 1.3789 - accuracy: 0.4010WARNING:tensorflow:Callback method `on_train_batch_end` is slow compared to the batch time (batch time: 0.0110s vs `on_train_batch_end` time: 0.1899s). Check your callbacks.\n",
      "4583/4583 [==============================] - 59s 13ms/step - loss: 1.1417 - accuracy: 0.5213 - val_loss: 0.7403 - val_accuracy: 0.7234\n",
      "Epoch 2/10\n",
      "4583/4583 [==============================] - 52s 11ms/step - loss: 0.6419 - accuracy: 0.7698 - val_loss: 0.4704 - val_accuracy: 0.8403\n",
      "Epoch 3/10\n",
      "4583/4583 [==============================] - 46s 10ms/step - loss: 0.4202 - accuracy: 0.8604 - val_loss: 0.3812 - val_accuracy: 0.8695\n",
      "Epoch 4/10\n",
      "4583/4583 [==============================] - 40s 9ms/step - loss: 0.3370 - accuracy: 0.8859 - val_loss: 0.3439 - val_accuracy: 0.8813\n",
      "Epoch 5/10\n",
      "4583/4583 [==============================] - 41s 9ms/step - loss: 0.2941 - accuracy: 0.9002 - val_loss: 0.3244 - val_accuracy: 0.8877\n",
      "Epoch 6/10\n",
      "4583/4583 [==============================] - 40s 9ms/step - loss: 0.2670 - accuracy: 0.9087 - val_loss: 0.3132 - val_accuracy: 0.8911\n",
      "Epoch 7/10\n",
      "4583/4583 [==============================] - 40s 9ms/step - loss: 0.2477 - accuracy: 0.9148 - val_loss: 0.3064 - val_accuracy: 0.8942\n",
      "Epoch 8/10\n",
      "4583/4583 [==============================] - 40s 9ms/step - loss: 0.2331 - accuracy: 0.9194 - val_loss: 0.3022 - val_accuracy: 0.8961\n",
      "Epoch 9/10\n",
      "4583/4583 [==============================] - 40s 9ms/step - loss: 0.2213 - accuracy: 0.9237 - val_loss: 0.2997 - val_accuracy: 0.8969\n",
      "Epoch 10/10\n",
      "4583/4583 [==============================] - 40s 9ms/step - loss: 0.2114 - accuracy: 0.9284 - val_loss: 0.2984 - val_accuracy: 0.8990\n",
      "INFO:tensorflow:Assets written to: C:\\Users\\lione\\AppData\\Local\\Temp\\tmp_ufjk3ej\\model\\data\\model\\assets\n"
     ]
    },
    {
     "name": "stderr",
     "output_type": "stream",
     "text": [
      "2021/03/10 23:11:09 WARNING mlflow.utils.autologging_utils: MLflow issued a warning during tensorflow autologging: \"C:\\Users\\lione\\anaconda3\\envs\\TF\\lib\\site-packages\\mlflow\\tensorflow.py:794: UserWarning: Logging to MLflow failed: 'utf-8' codec can't decode byte 0xe9 in position 48: invalid continuation byte\"\n",
      "2021/03/10 23:11:09 WARNING mlflow.utils.autologging_utils: MLflow issued a warning during tensorflow autologging: \"C:\\Users\\lione\\anaconda3\\envs\\TF\\lib\\site-packages\\mlflow\\tensorflow.py:597: UserWarning: Logging to MLflow failed: 'utf-8' codec can't decode byte 0xe9 in position 48: invalid continuation byte\"\n"
     ]
    }
   ],
   "source": [
    "# vocab_size is VOCAB_SIZE + 1 since 0 is used additionally for padding.\n",
    "int_model =  tf.keras.Sequential([\n",
    "    layers.Embedding(input_dim=VOCAB_SIZE + 1,\n",
    "                     output_dim=64,\n",
    "                     mask_zero=True), # input value 0: special \"padding\" value - masked out\n",
    "    layers.Conv1D(filters=64, kernel_size=5, padding=\"valid\", activation=\"relu\", strides=2),\n",
    "    layers.GlobalMaxPooling1D(),\n",
    "    layers.Dense(4, activation='softmax')\n",
    "])\n",
    "\n",
    "int_model.compile(\n",
    "    loss='sparse_categorical_crossentropy',\n",
    "    optimizer=tf.optimizers.Adam(learning_rate=0.00005),\n",
    "    metrics=['accuracy'])\n",
    "history = int_model.fit(int_train_ds, validation_data=int_val_ds, epochs=10)"
   ]
  },
  {
   "cell_type": "code",
   "execution_count": 29,
   "metadata": {
    "id": "gO0oS5lucaHI",
    "outputId": "5c385966-4118-4e7e-eabd-199d76e4cf3d",
    "scrolled": true
   },
   "outputs": [
    {
     "data": {
      "text/plain": [
       "(0.0, 1.0259763874113559)"
      ]
     },
     "execution_count": 29,
     "metadata": {},
     "output_type": "execute_result"
    },
    {
     "data": {
      "image/png": "[encoded data removed]",
      "text/plain": [
       "<Figure size 1152x576 with 2 Axes>"
      ]
     },
     "metadata": {
      "needs_background": "light"
     },
     "output_type": "display_data"
    }
   ],
   "source": [
    "#Plot\n",
    "plt.figure(figsize=(16,8))\n",
    "plt.subplot(1,2,1)\n",
    "plot_graphs(history, 'accuracy')\n",
    "plt.ylim(None,1)\n",
    "plt.subplot(1,2,2)\n",
    "plot_graphs(history, 'loss')\n",
    "plt.ylim(0,None)"
   ]
  },
  {
   "cell_type": "markdown",
   "metadata": {
    "id": "zv0AwrA8caHJ"
   },
   "source": [
    "#### With this change, we do not have overfitting anymore"
   ]
  },
  {
   "cell_type": "markdown",
   "metadata": {},
   "source": [
    "# 6. Results - Models Comparison"
   ]
  },
  {
   "cell_type": "markdown",
   "metadata": {
    "id": "CD8GOFz5caHJ"
   },
   "source": [
    "## Viewing the results with ML Flow ****** NOT YET WORKING ******\n",
    "After having imported MLFlow, and run the program, the tracking API writes data into files into a local directory. To view the result, we must run the user interface (mlflow ui) and view it at http://localhost:5000.  "
   ]
  },
  {
   "cell_type": "code",
   "execution_count": 30,
   "metadata": {
    "id": "1vmN_2iTcaHJ"
   },
   "outputs": [],
   "source": [
    "!mlflow ui"
   ]
  },
  {
   "cell_type": "markdown",
   "metadata": {},
   "source": [
    "## Model Comparison"
   ]
  },
  {
   "cell_type": "code",
   "execution_count": 31,
   "metadata": {
    "id": "KkknPxMy0Zl_",
    "outputId": "a97bc892-86e9-4acb-c8fe-4532505ac915",
    "scrolled": true
   },
   "outputs": [
    {
     "name": "stdout",
     "output_type": "stream",
     "text": [
      "Binary Vectorization - Bag of Word / Linear:\n",
      "Model: \"sequential_1\"\n",
      "_________________________________________________________________\n",
      "Layer (type)                 Output Shape              Param #   \n",
      "=================================================================\n",
      "dense_1 (Dense)              (None, 4)                 40004     \n",
      "=================================================================\n",
      "Total params: 40,004\n",
      "Trainable params: 40,004\n",
      "Non-trainable params: 0\n",
      "_________________________________________________________________\n",
      "None\n"
     ]
    }
   ],
   "source": [
    "print(\"Binary Vectorization - Bag of Word / Linear:\")\n",
    "print(binary_model.summary())"
   ]
  },
  {
   "cell_type": "code",
   "execution_count": 32,
   "metadata": {
    "id": "6CafjxDB0Zl_",
    "scrolled": false
   },
   "outputs": [
    {
     "name": "stdout",
     "output_type": "stream",
     "text": [
      "Integer Vectorizatin - ConvNet Model:\n",
      "Model: \"sequential_3\"\n",
      "_________________________________________________________________\n",
      "Layer (type)                 Output Shape              Param #   \n",
      "=================================================================\n",
      "embedding_1 (Embedding)      (None, None, 64)          640064    \n",
      "_________________________________________________________________\n",
      "conv1d_1 (Conv1D)            (None, None, 64)          20544     \n",
      "_________________________________________________________________\n",
      "global_max_pooling1d_1 (Glob (None, 64)                0         \n",
      "_________________________________________________________________\n",
      "dense_3 (Dense)              (None, 4)                 260       \n",
      "=================================================================\n",
      "Total params: 660,868\n",
      "Trainable params: 660,868\n",
      "Non-trainable params: 0\n",
      "_________________________________________________________________\n",
      "None\n"
     ]
    }
   ],
   "source": [
    "print(\"Integer Vectorizatin - ConvNet Model:\")\n",
    "print(int_model.summary())"
   ]
  },
  {
   "cell_type": "code",
   "execution_count": 33,
   "metadata": {
    "id": "QlB0PdF10ZmA",
    "scrolled": false
   },
   "outputs": [
    {
     "name": "stdout",
     "output_type": "stream",
     "text": [
      "1146/1146 [==============================] - 2s 1ms/step - loss: 0.3243 - accuracy: 0.8861\n",
      "1146/1146 [==============================] - 2s 1ms/step - loss: 0.2984 - accuracy: 0.8990\n",
      "Model A / Binary Vectorization - Linear Model - accuracy: 88.61%\n",
      "Model B / Integer Vectorization - CNN model - accuracy:    89.90%\n"
     ]
    }
   ],
   "source": [
    "#we compare the results of both models\n",
    "binary_loss, binary_accuracy = binary_model.evaluate(binary_val_ds)\n",
    "int_loss, int_accuracy = int_model.evaluate(int_val_ds)\n",
    "\n",
    "print(\"Model A / Binary Vectorization - Linear Model - accuracy: {:2.2%}\".format(binary_accuracy))\n",
    "print(\"Model B / Integer Vectorization - CNN model - accuracy:    {:2.2%}\".format(int_accuracy))"
   ]
  },
  {
   "cell_type": "markdown",
   "metadata": {},
   "source": [
    "## Other Tests Done"
   ]
  },
  {
   "cell_type": "markdown",
   "metadata": {},
   "source": [
    "### Tests with other optimizers"
   ]
  },
  {
   "cell_type": "markdown",
   "metadata": {},
   "source": [
    "\"SGD\" - Gradient descent with momentum optimizer: about 15% less accuracy than achieved above\n",
    "\n",
    "\"RMSprop\" - Root Mean Square propagation optimizer: about 4% less accuary than achieved above but MUCH FASTER\n"
   ]
  },
  {
   "cell_type": "markdown",
   "metadata": {},
   "source": [
    "### Tests with same database, but without file type information"
   ]
  },
  {
   "cell_type": "markdown",
   "metadata": {},
   "source": [
    "Without file type information: Accuracy was about 1% less than achieved above"
   ]
  },
  {
   "cell_type": "markdown",
   "metadata": {},
   "source": [
    "# 7. References and Detailed explaination"
   ]
  },
  {
   "cell_type": "markdown",
   "metadata": {
    "id": "WA_GZoYhcaHR"
   },
   "source": [
    "## Convolutional Neural Network Architecture applied to Text Classification\n",
    "Source: https://machine-learning-company.nl/en/technical/convolutional-neural-network-text-classification-with-risk-assessment-eng/\n",
    "\n",
    "<img src=\"https://miro.medium.com/max/1236/1*BEaZkpZJ4mFR-i2U4VOXsA.png\" width=\"800\">\n",
    "\"Now, we are going to take a look at a specific CNN architecture, depicted in Figure 3. The CNN consists of different layers, which are connected to each other. The starting layer is the embedding layer, which takes integer encoded texts as input, and initializes random or pre-trained word embedding weights. The weights are learnt during training of the CNN by updating the weights in each epoch (an epoch is a full run through the network). In Figure 3, the word embeddings are shown for the words in the text “Green shirt for men regular fit”, where for illustration purposes the word embeddings are of dimension 5.\n",
    "\n",
    "The next layer is the convolutional layer. The convolutional layer takes the texts transformed to sequences of word embeddings as input, and creates feature vectors by analysing the word embeddings for each text. This is done by the use of convolution filters. A convolution filter is a matrix that is filled with weights, that analyses multiple consecutive words in a text simultaneously, and continues like this by going through the whole text to create a feature map. This operation is performed for every text, by using multiple convolution filters, to detect various different relationships between the words. The various convolution filters may also differ from each other in height, which indicates how many consecutive words a filter considers simultaneously in each step. To obtain the feature vectors, the feature maps following from the convolution operation all get added a bias term, and an activation function is applied to add non-linearity (ReLU is the most commonly used activation function). This non-linearity enables to learn more complex relationships.\n",
    "\n",
    "The pooling layer takes the variable-length feature vectors of the convolutional layer as input, and creates fixed-length vectors out of them. By creating these fixed-length feature vectors, the less-relevant local information is removed.\n",
    "\n",
    "The final layer of the CNN is the softmax layer. This layer takes the fixed-length feature vectors as input, where these vectors first enter a fully-connected layer. This fully-connected layer is an efficient way of learning non-linear combinations of the features. The output of this fully-connected layer are numerical values for each class. To assign a straightforward interpretation to these numbers, the softmax function is applied. The softmax function forces the output of the CNN to represent predicted probabilities for each of the classes. The class achieving the highest predicted probability is the resulting predicted class following from the CNN.\n",
    "\n",
    "During training of the CNN, in each epoch, the weights in the embedding, convolutional and softmax layers are updated by making use of the categorical cross-entropy loss function. This process of updating the weights is called back-propagation, and is the essence of neural net training. Back-propagation is a way of propagating the total loss obtained from the forward propagation in this epoch (i.e. , this run through the network) back into the CNN to know what portion of the loss every node is responsible for, and subsequently updating the weights in such a way that minimizes the loss by giving the nodes with higher error rates lower weights and vice versa.\""
   ]
  },
  {
   "cell_type": "markdown",
   "metadata": {
    "id": "MxS5md83caHR"
   },
   "source": [
    "<img src=\"https://missinglink.ai/wp-content/uploads/2019/03/1D-convolutional-example_2x.png\" width=\"500\">\n",
    "In this natural language processing (NLP) example, a sentence is made up of 9 words. Each word is a vector that represents a word. The filter covers at least one word; a height parameter specifies how many words the filter should consider at once. In this example the height is 2, meaning the filter moves 8 times to fully scan the data.\n",
    "The strides parameter is specifying the shift size of the convolution window\n",
    "\n",
    "Source: https://missinglink.ai/guides/keras/keras-conv1d-working-1d-convolutional-neural-networks-keras/"
   ]
  }
 ],
 "metadata": {
  "accelerator": "GPU",
  "colab": {
   "collapsed_sections": [],
   "name": "Automatic_Title_Classification.ipynb",
   "provenance": []
  },
  "kernelspec": {
   "display_name": "Python 3",
   "language": "python",
   "name": "python3"
  },
  "language_info": {
   "codemirror_mode": {
    "name": "ipython",
    "version": 3
   },
   "file_extension": ".py",
   "mimetype": "text/x-python",
   "name": "python",
   "nbconvert_exporter": "python",
   "pygments_lexer": "ipython3",
   "version": "3.7.6"
  }
 },
 "nbformat": 4,
 "nbformat_minor": 1
}
